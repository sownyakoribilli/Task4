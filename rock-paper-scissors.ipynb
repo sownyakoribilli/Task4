{
 "cells": [
  {
   "cell_type": "code",
   "execution_count": 1,
   "metadata": {},
   "outputs": [
    {
     "name": "stdout",
     "output_type": "stream",
     "text": [
      "Enter your choice: Type 0 for Rock, 1 for Paper, 2 for Scissors.1\n",
      "\n",
      "    _______\n",
      "---'   ____)____\n",
      "          _______)\n",
      "         _______)\n",
      "        _______)\n",
      "---.__________)\n",
      "\n",
      "computer_choice\n",
      "\n",
      "    _______\n",
      "---'   ____)\n",
      "      (_____)\n",
      "      (_____)\n",
      "      (____)\n",
      "---.__(___)\n",
      "\n",
      "You Win.\n"
     ]
    }
   ],
   "source": [
    "import random\n",
    "rock = '''\n",
    "    _______\n",
    "---'   ____)\n",
    "      (_____)\n",
    "      (_____)\n",
    "      (____)\n",
    "---.__(___)\n",
    "'''\n",
    "\n",
    "paper = '''\n",
    "    _______\n",
    "---'   ____)____\n",
    "          _______)\n",
    "         _______)\n",
    "        _______)\n",
    "---.__________)\n",
    "'''\n",
    "\n",
    "scissors = '''\n",
    "    _______\n",
    "---'   ____)____\n",
    "          _______)\n",
    "       __________)\n",
    "      (____)\n",
    "---.__(___)\n",
    "'''\n",
    "game_images=[rock,paper,scissors]\n",
    "user_choice=int(input(\"Enter your choice: Type 0 for Rock, 1 for Paper, 2 for Scissors.\"))\n",
    "if user_choice >=3 or user_choice < 0:\n",
    "    print(\"You have entered invalid number,you loose \")\n",
    "else:\n",
    "    print(game_images[user_choice])\n",
    "    computer_choice=random.randint(0,2)\n",
    "    print(\"computer_choice\")\n",
    "    print(game_images[computer_choice])\n",
    "if computer_choice == user_choice:\n",
    "    print(\"It's a draw\")\n",
    "elif computer_choice ==0 and user_choice ==2:\n",
    "    print(\"You loose\")\n",
    "elif user_choice == 0 and computer_choice==2:\n",
    "    print(\"you win.\")\n",
    "elif computer_choice > user_choice:\n",
    "     print(\"You loose.\")\n",
    "elif user_choice >computer_choice:\n",
    "    print(\"You Win.\")\n"
   ]
  },
  {
   "cell_type": "code",
   "execution_count": null,
   "metadata": {},
   "outputs": [],
   "source": []
  }
 ],
 "metadata": {
  "kernelspec": {
   "display_name": "Python 3",
   "language": "python",
   "name": "python3"
  },
  "language_info": {
   "codemirror_mode": {
    "name": "ipython",
    "version": 3
   },
   "file_extension": ".py",
   "mimetype": "text/x-python",
   "name": "python",
   "nbconvert_exporter": "python",
   "pygments_lexer": "ipython3",
   "version": "3.8.10"
  }
 },
 "nbformat": 4,
 "nbformat_minor": 4
}
